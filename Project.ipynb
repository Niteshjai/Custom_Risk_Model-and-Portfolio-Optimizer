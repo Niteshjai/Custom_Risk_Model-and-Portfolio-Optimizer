{
  "nbformat": 4,
  "nbformat_minor": 0,
  "metadata": {
    "colab": {
      "provenance": [],
      "authorship_tag": "ABX9TyNTfHpFI6kp/krvSDuCIR1r",
      "include_colab_link": true
    },
    "kernelspec": {
      "name": "python3",
      "display_name": "Python 3"
    },
    "language_info": {
      "name": "python"
    }
  },
  "cells": [
    {
      "cell_type": "markdown",
      "metadata": {
        "id": "view-in-github",
        "colab_type": "text"
      },
      "source": [
        "<a href=\"https://colab.research.google.com/github/Niteshjai/Project/blob/main/Project.ipynb\" target=\"_parent\"><img src=\"https://colab.research.google.com/assets/colab-badge.svg\" alt=\"Open In Colab\"/></a>"
      ]
    },
    {
      "cell_type": "code",
      "execution_count": 60,
      "metadata": {
        "id": "-N-5Ir1gyu2R"
      },
      "outputs": [],
      "source": [
        "import pandas as pd\n",
        "import numpy as np\n",
        "import matplotlib.pyplot as plt\n",
        "import yfinance as yf\n",
        "import statsmodels.api as sm\n",
        "from scipy.stats import zscore"
      ]
    },
    {
      "cell_type": "code",
      "source": [
        "def collect_data(tickers,market_data,stock_data, period):\n",
        "  all_data = {}\n",
        "\n",
        "  market_returns = market_data['^GSPC'].pct_change().dropna()\n",
        "  beta_dt = pd.DataFrame(columns=tickers)\n",
        "  size_dt= pd.DataFrame(columns=tickers)\n",
        "  momentum_dt = pd.DataFrame(columns=tickers)\n",
        "  pe_ratio_dt= pd.DataFrame(columns=tickers)\n",
        "  volatility_dt= pd.DataFrame(columns=tickers)\n",
        "\n",
        "  for ticker in tickers:\n",
        "      # Handle potential KeyError if a ticker's data is missing\n",
        "      if ticker in stock_data.columns:\n",
        "        stock_returns = stock_data[ticker].pct_change().dropna()\n",
        "\n",
        "        # Align returns Series by date\n",
        "        returns= pd.DataFrame({\n",
        "            'Stocks': stock_returns,\n",
        "            'market': market_returns\n",
        "        }).dropna()\n",
        "\n",
        "\n",
        "        # beta=cov(stock,market)/var(market)\n",
        "        try:\n",
        "          rolling_window = 60  # You can change to 90, 126 etc.\n",
        "          beta = returns['Stocks'].rolling(rolling_window).cov(returns['market']) / \\\n",
        "                returns['market'].rolling(rolling_window).var()\n",
        "        except:\n",
        "          beta = pd.Series(index=returns.index, data=np.nan)\n",
        "\n",
        "        # Size=log(market cap)=log(outstanding share * price)\n",
        "        try:\n",
        "          info = yf.Ticker(ticker).info\n",
        "          outstanding_share = info['sharesOutstanding']\n",
        "          price = stock_data[ticker]\n",
        "          if outstanding_share is not None and price is not None:\n",
        "            size = np.log(outstanding_share * price)\n",
        "          else:\n",
        "            size = np.nan\n",
        "        except:\n",
        "          size = pd.Series(index=returns.index,data=np.nan)\n",
        "\n",
        "        # --- Momentum (Price 1M ago to 12M ago) ---\n",
        "        try:\n",
        "            momentum = (stock_data[ticker].shift(21) / stock_data[ticker].shift(252)) - 1\n",
        "        except:\n",
        "            momentum = np.nan\n",
        "\n",
        "        # P/E ratio\n",
        "        try:\n",
        "          info=yf.Ticker(ticker).info\n",
        "          pe_ratio=info['trailingPE']\n",
        "        except:\n",
        "          pe_ratio=np.nan\n",
        "\n",
        "\n",
        "        # --- Volatility (21-day rolling std of returns) ---\n",
        "        try:\n",
        "            volatility = returns['Stocks'].rolling(21).std()\n",
        "        except:\n",
        "            volatility = np.nan\n",
        "\n",
        "        all_data[ticker] =pd.DataFrame({\n",
        "                    'returns': returns['Stocks'],\n",
        "                    'beta': beta,\n",
        "                    'size': size,\n",
        "                    'momentum': momentum,\n",
        "                    'pe_ratio': pe_ratio,\n",
        "                    'volatility': volatility\n",
        "        })\n",
        "\n",
        "        beta_dt[ticker]=(beta)\n",
        "        size_dt[ticker]=(size)\n",
        "        momentum_dt[ticker]=(momentum)\n",
        "        pe_ratio_dt[ticker]=(pe_ratio)\n",
        "        volatility_dt[ticker]=(volatility)\n",
        "\n",
        "        all_data[ticker].dropna(inplace=True)\n",
        "\n",
        "      else:\n",
        "         all_data[ticker] = {\n",
        "              'returns': np.nan,\n",
        "              'beta': np.nan,\n",
        "              'size': np.nan,\n",
        "              'momentum': np.nan,\n",
        "              'pe_ratio': np.nan,\n",
        "              'volatility': np.nan\n",
        "          }\n",
        "  # Apply z-score normalization across all tickers (i.e., column-wise)\n",
        "  beta_dt = beta_dt.T.apply(zscore, axis=1).T.dropna()\n",
        "  size_dt = size_dt.T.apply(zscore, axis=1).T.dropna()\n",
        "  momentum_dt = momentum_dt.T.apply(zscore, axis=1).T.dropna()\n",
        "  pe_ratio_dt = pe_ratio_dt.T.apply(zscore, axis=1).T.dropna()\n",
        "  volatility_dt = volatility_dt.T.apply(zscore, axis=1).T.dropna()\n",
        "\n",
        "  # Now update all_data[ticker] DataFrames with normalized values\n",
        "  for ticker in tickers:\n",
        "    if ticker in all_data and isinstance(all_data[ticker], pd.DataFrame):\n",
        "        if ticker in beta_dt.columns:\n",
        "            all_data[ticker]['beta'] = beta_dt[ticker].reindex(all_data[ticker].index)\n",
        "        if ticker in size_dt.columns:\n",
        "            all_data[ticker]['size'] = size_dt[ticker].reindex(all_data[ticker].index)\n",
        "        if ticker in momentum_dt.columns:\n",
        "            all_data[ticker]['momentum'] = momentum_dt[ticker].reindex(all_data[ticker].index)\n",
        "        if ticker in pe_ratio_dt.columns:\n",
        "            all_data[ticker]['pe_ratio'] = pe_ratio_dt[ticker].reindex(all_data[ticker].index)\n",
        "        if ticker in volatility_dt.columns:\n",
        "            all_data[ticker]['volatility'] = volatility_dt[ticker].reindex(all_data[ticker].index)\n",
        "\n",
        "  return all_data,beta_dt"
      ],
      "metadata": {
        "id": "vZUkIRJdy_6u"
      },
      "execution_count": 121,
      "outputs": []
    },
    {
      "cell_type": "code",
      "metadata": {
        "colab": {
          "base_uri": "https://localhost:8080/"
        },
        "id": "0f158661",
        "outputId": "05efc0b5-9a6f-470b-ce59-565a4a9fece4"
      },
      "source": [
        "tickers = [\n",
        "    \"AAPL\", \"MSFT\", \"GOOGL\", \"GOOG\", \"AMZN\", \"META\", \"NVDA\", \"TSLA\", \"BRK-B\", \"UNH\",\n",
        "    \"JNJ\", \"V\", \"XOM\", \"JPM\", \"PG\", \"LLY\", \"MA\", \"HD\", \"CVX\", \"MRK\",\n",
        "    \"PEP\", \"ABBV\", \"AVGO\", \"COST\", \"KO\", \"WMT\", \"MCD\", \"BAC\", \"ADBE\", \"CSCO\",\n",
        "    \"PFE\", \"CRM\", \"ACN\", \"INTC\", \"TMO\", \"VZ\", \"ABT\", \"NFLX\", \"NKE\", \"DHR\",\n",
        "    \"ORCL\", \"LIN\", \"TXN\", \"NEE\", \"AMGN\", \"UPS\", \"MS\", \"QCOM\", \"PM\", \"BMY\",\n",
        "    \"IBM\", \"AMAT\", \"SBUX\", \"RTX\", \"CAT\", \"MDT\", \"HON\", \"GE\", \"GS\", \"LOW\",\n",
        "    \"CVS\", \"INTU\", \"UNP\", \"PLD\", \"DE\", \"NOW\", \"SPGI\", \"ISRG\", \"MDLZ\", \"ADP\",\n",
        "    \"LRCX\", \"BKNG\", \"SYK\", \"BLK\", \"CI\", \"T\", \"ZTS\", \"SCHW\", \"EL\", \"GILD\",\n",
        "    \"MU\", \"ADI\", \"MO\", \"MMC\", \"FI\", \"PNC\", \"BDX\", \"ICE\", \"SO\", \"EW\",\n",
        "    \"USB\", \"C\", \"APD\", \"CL\", \"ITW\", \"ETN\", \"FDX\", \"ADSK\", \"CSX\", \"AON\"\n",
        "]\n",
        "period='5Y'\n",
        "market='^GSPC'\n",
        "market_data = yf.download(market, period=period, interval='1d')['Close']\n",
        "stock_data = yf.download(tickers, period=period, interval='1d')['Close']\n",
        "\n"
      ],
      "execution_count": 70,
      "outputs": [
        {
          "output_type": "stream",
          "name": "stderr",
          "text": [
            "/tmp/ipython-input-70-3733721781.py:15: FutureWarning: YF.download() has changed argument auto_adjust default to True\n",
            "  market_data = yf.download(market, period=period, interval='1d')['Close']\n",
            "\r[*********************100%***********************]  1 of 1 completed\n",
            "/tmp/ipython-input-70-3733721781.py:16: FutureWarning: YF.download() has changed argument auto_adjust default to True\n",
            "  stock_data = yf.download(tickers, period=period, interval='1d')['Close']\n",
            "[*********************100%***********************]  100 of 100 completed\n"
          ]
        }
      ]
    },
    {
      "cell_type": "code",
      "source": [
        "all_data,beta_dt=collect_data(tickers,market_data,stock_data, period)"
      ],
      "metadata": {
        "id": "o5BLKBpYmrDB"
      },
      "execution_count": null,
      "outputs": []
    },
    {
      "cell_type": "code",
      "source": [
        "\n",
        "beta_dt.T.head()"
      ],
      "metadata": {
        "id": "vPFADpGD7roZ"
      },
      "execution_count": null,
      "outputs": []
    },
    {
      "cell_type": "code",
      "source": [
        "print(all_data['AAPL'])"
      ],
      "metadata": {
        "colab": {
          "base_uri": "https://localhost:8080/"
        },
        "id": "TW4jIcZpC0tm",
        "outputId": "572c5af1-98da-4507-8b82-309854e3af7d"
      },
      "execution_count": 111,
      "outputs": [
        {
          "output_type": "stream",
          "name": "stdout",
          "text": [
            "             returns      beta       size  momentum   pe_ratio  volatility\n",
            "Date                                                                      \n",
            "2021-07-01  0.092318  1.416426  28.327363  0.383128  32.417446    0.009780\n",
            "2021-07-02  1.054130  1.422136  28.346771  0.366317  32.417446    0.009529\n",
            "2021-07-06  0.783419  1.380355  28.361382  0.356033  32.417446    0.009278\n",
            "2021-07-07  0.963043  1.386748  28.379178  0.360362  32.417446    0.009544\n",
            "2021-07-08 -0.543747  1.362225  28.369935  0.338270  32.417446    0.010151\n",
            "...              ...       ...        ...       ...        ...         ...\n",
            "2025-06-25  0.315785  1.499056  28.733114 -0.054493  32.417446    0.011699\n",
            "2025-06-26 -0.187428  1.493308  28.730332 -0.033601  32.417446    0.010382\n",
            "2025-06-27 -0.011179  1.492464  28.730730 -0.036891  32.417446    0.010381\n",
            "2025-06-30  1.095369  1.495726  28.750866 -0.057983  32.417446    0.011246\n",
            "2025-07-01  0.737516  1.449739  28.764661 -0.057500  32.417446    0.011562\n",
            "\n",
            "[1004 rows x 6 columns]\n"
          ]
        }
      ]
    },
    {
      "cell_type": "code",
      "source": [
        "from sklearn.covariance import LedoitWolf\n",
        "\n",
        "class FactorModel:\n",
        "  def __init__(R,X,self):\n",
        "    self.R=R\n",
        "    self.X=X\n",
        "\n",
        "    self.f = np.linalg.inv(self.X.T @ self.X) @ self.X.T @ self.R\n",
        "\n",
        "  def compute_factor_covariance(self):\n",
        "    T = self.f.shape[1]\n",
        "    return (self.f@ self.f.T) / (T - 1)\n",
        "\n",
        "  def compute_idiosyncratic_variance(self):\n",
        "    eps = self.R - self.X @ self.f  # shape (N x T)\n",
        "    eps_cov_diag = (eps@ eps.T) / (self.R.shape[1] - 1)  # N-vector\n",
        "    return np.diag(np.diag(eps_cov_diag))\n",
        "\n",
        "  def compute_total_risk_model(self, Sigma_f, D):\n",
        "    return self.X @ Sigma_f @ self.X.T + D\n",
        "\n",
        "\n",
        "  def shrink_covariance(self):\n",
        "      lw = LedoitWolf()\n",
        "      return lw.fit(self.f).covariance_  # shape (K x K)\n",
        "\n",
        "R=stock_data.pct_change().T.dropna(inplace=True)\n",
        "X=pd.DataFrame(columns=['beta','size','momentum','pe_ratio','volatility'])\n",
        "for ticker in tickers:\n",
        "    try:\n",
        "        row = {\n",
        "            'beta': all_data[ticker]['beta'],\n",
        "            'size': all_data[ticker]['size'],\n",
        "            'momentum': all_data[ticker]['momentum'],\n",
        "            'pe_ratio': all_data[ticker]['pe_ratio'],\n",
        "            'volatility': all_data[ticker]['volatility']\n",
        "        }\n",
        "        X.loc[ticker] = row  # Add a row with index = ticker\n",
        "    except:\n",
        "        continue  # Skip tickers with missing or invalid data\n",
        "\n",
        "X.dropna(inplace=True)\n",
        "\n",
        "\n",
        "factor=FactorModel(R,X)\n",
        "shrink=False\n",
        "Sigma_f = factor.shrink_covariance() if shrink else factor.compute_factor_covariance()\n",
        "D = factor.compute_idiosyncratic_variance()\n",
        "Sigma = factor.compute_total_risk_model(Sigma_f, D)\n"
      ],
      "metadata": {
        "colab": {
          "base_uri": "https://localhost:8080/",
          "height": 332
        },
        "id": "KW0vNr0-AVMh",
        "outputId": "763b23c9-e816-47eb-8b31-5cf5076c59f7"
      },
      "execution_count": 114,
      "outputs": [
        {
          "output_type": "error",
          "ename": "AttributeError",
          "evalue": "'NoneType' object has no attribute 'T'",
          "traceback": [
            "\u001b[0;31m---------------------------------------------------------------------------\u001b[0m",
            "\u001b[0;31mAttributeError\u001b[0m                            Traceback (most recent call last)",
            "\u001b[0;32m/tmp/ipython-input-114-1064051030.py\u001b[0m in \u001b[0;36m<cell line: 0>\u001b[0;34m()\u001b[0m\n\u001b[1;32m     43\u001b[0m \u001b[0;34m\u001b[0m\u001b[0m\n\u001b[1;32m     44\u001b[0m \u001b[0;34m\u001b[0m\u001b[0m\n\u001b[0;32m---> 45\u001b[0;31m \u001b[0mfactor\u001b[0m\u001b[0;34m=\u001b[0m\u001b[0mFactorModel\u001b[0m\u001b[0;34m(\u001b[0m\u001b[0mR\u001b[0m\u001b[0;34m,\u001b[0m\u001b[0mX\u001b[0m\u001b[0;34m)\u001b[0m\u001b[0;34m\u001b[0m\u001b[0;34m\u001b[0m\u001b[0m\n\u001b[0m\u001b[1;32m     46\u001b[0m \u001b[0mshrink\u001b[0m\u001b[0;34m=\u001b[0m\u001b[0;32mFalse\u001b[0m\u001b[0;34m\u001b[0m\u001b[0;34m\u001b[0m\u001b[0m\n\u001b[1;32m     47\u001b[0m \u001b[0mSigma_f\u001b[0m \u001b[0;34m=\u001b[0m \u001b[0mfactor\u001b[0m\u001b[0;34m.\u001b[0m\u001b[0mshrink_covariance\u001b[0m\u001b[0;34m(\u001b[0m\u001b[0;34m)\u001b[0m \u001b[0;32mif\u001b[0m \u001b[0mshrink\u001b[0m \u001b[0;32melse\u001b[0m \u001b[0mfactor\u001b[0m\u001b[0;34m.\u001b[0m\u001b[0mcompute_factor_covariance\u001b[0m\u001b[0;34m(\u001b[0m\u001b[0;34m)\u001b[0m\u001b[0;34m\u001b[0m\u001b[0;34m\u001b[0m\u001b[0m\n",
            "\u001b[0;32m/tmp/ipython-input-114-1064051030.py\u001b[0m in \u001b[0;36m__init__\u001b[0;34m(R, X, self)\u001b[0m\n\u001b[1;32m      6\u001b[0m     \u001b[0mself\u001b[0m\u001b[0;34m.\u001b[0m\u001b[0mX\u001b[0m\u001b[0;34m=\u001b[0m\u001b[0mX\u001b[0m\u001b[0;34m\u001b[0m\u001b[0;34m\u001b[0m\u001b[0m\n\u001b[1;32m      7\u001b[0m \u001b[0;34m\u001b[0m\u001b[0m\n\u001b[0;32m----> 8\u001b[0;31m     \u001b[0mself\u001b[0m\u001b[0;34m.\u001b[0m\u001b[0mf\u001b[0m \u001b[0;34m=\u001b[0m \u001b[0mnp\u001b[0m\u001b[0;34m.\u001b[0m\u001b[0mlinalg\u001b[0m\u001b[0;34m.\u001b[0m\u001b[0minv\u001b[0m\u001b[0;34m(\u001b[0m\u001b[0mself\u001b[0m\u001b[0;34m.\u001b[0m\u001b[0mX\u001b[0m\u001b[0;34m.\u001b[0m\u001b[0mT\u001b[0m \u001b[0;34m@\u001b[0m \u001b[0mself\u001b[0m\u001b[0;34m.\u001b[0m\u001b[0mX\u001b[0m\u001b[0;34m)\u001b[0m \u001b[0;34m@\u001b[0m \u001b[0mself\u001b[0m\u001b[0;34m.\u001b[0m\u001b[0mX\u001b[0m\u001b[0;34m.\u001b[0m\u001b[0mT\u001b[0m \u001b[0;34m@\u001b[0m \u001b[0mself\u001b[0m\u001b[0;34m.\u001b[0m\u001b[0mR\u001b[0m\u001b[0;34m\u001b[0m\u001b[0;34m\u001b[0m\u001b[0m\n\u001b[0m\u001b[1;32m      9\u001b[0m \u001b[0;34m\u001b[0m\u001b[0m\n\u001b[1;32m     10\u001b[0m   \u001b[0;32mdef\u001b[0m \u001b[0mcompute_factor_covariance\u001b[0m\u001b[0;34m(\u001b[0m\u001b[0mself\u001b[0m\u001b[0;34m)\u001b[0m\u001b[0;34m:\u001b[0m\u001b[0;34m\u001b[0m\u001b[0;34m\u001b[0m\u001b[0m\n",
            "\u001b[0;31mAttributeError\u001b[0m: 'NoneType' object has no attribute 'T'"
          ]
        }
      ]
    },
    {
      "cell_type": "code",
      "source": [
        "R.shape"
      ],
      "metadata": {
        "colab": {
          "base_uri": "https://localhost:8080/"
        },
        "id": "Jba8s83qhElG",
        "outputId": "b46b73f1-f245-458b-af37-8c6c42d3f3df"
      },
      "execution_count": 51,
      "outputs": [
        {
          "output_type": "execute_result",
          "data": {
            "text/plain": [
              "(100, 251)"
            ]
          },
          "metadata": {},
          "execution_count": 51
        }
      ]
    },
    {
      "cell_type": "code",
      "source": [],
      "metadata": {
        "id": "OFzcveE2hiDv"
      },
      "execution_count": null,
      "outputs": []
    }
  ]
}